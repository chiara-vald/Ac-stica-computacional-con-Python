{
 "cells": [
  {
   "cell_type": "code",
   "execution_count": 3,
   "id": "59db3a4b",
   "metadata": {},
   "outputs": [
    {
     "data": {
      "text/html": [
       "<!-- Mejorar visualización en proyector -->\n",
       "<style>\n",
       ".rendered_html {font-size: 1.2em; line-height: 150%;}\n",
       "div.prompt {min-width: 0ex; }\n",
       ".container {width:95% !important;}\n",
       "</style>\n"
      ],
      "text/plain": [
       "<IPython.core.display.HTML object>"
      ]
     },
     "metadata": {},
     "output_type": "display_data"
    }
   ],
   "source": [
    "%%HTML\n",
    "<!-- Mejorar visualización en proyector -->\n",
    "<style>\n",
    ".rendered_html {font-size: 1.2em; line-height: 150%;}\n",
    "div.prompt {min-width: 0ex; }\n",
    ".container {width:95% !important;}\n",
    "</style>"
   ]
  },
  {
   "cell_type": "markdown",
   "id": "bfc6a75d",
   "metadata": {},
   "source": [
    "<h1 style=\"text-align:center\">Evaluación Parcial 1</h1>\n",
    "<h3 style=\"text-align:center\">ACUS220: Acústica computacional con Python</h3>\n",
    "<p style=\"text-align:center\">Benjamin Bravo <br>\n",
    "<a href=\"mailto:benjamin.bravo@alumnos.uach.cl\">benjamin.bravo@alumnos.uach.cl</a><br>\n",
    "<p style=\"text-align:center\">Chiara Valderrama <br>\n",
    "<a href=\"mailto:corina.valderrma@alumnos.uach.cl\">corina.valderrama@alumnos.uach.cl </a><br>\n",
    "<p style=\"text-align:center\">Fernanda Albornoz <br>\n",
    "<a href=\"mailto:fernanda.albornoz@alumnos.uach.cl\">fernanda.albornoz@alumnos.uach.cl </a><br>\n"
   ]
  },
  {
   "cell_type": "code",
   "execution_count": 4,
   "id": "4f010695",
   "metadata": {},
   "outputs": [],
   "source": [
    "import numpy as np\n",
    "from matplotlib import pyplot as plt \n",
    "%matplotlib notebook\n",
    "import librosa as lib\n",
    "from librosa import display as libdis\n",
    "import IPython.display as disp"
   ]
  },
  {
   "cell_type": "markdown",
   "id": "0243108e",
   "metadata": {},
   "source": [
    "## Instrucciones "
   ]
  },
  {
   "cell_type": "code",
   "execution_count": null,
   "id": "24940360",
   "metadata": {},
   "outputs": [],
   "source": []
  }
 ],
 "metadata": {
  "kernelspec": {
   "display_name": "ACUS220",
   "language": "python",
   "name": "acus220"
  },
  "language_info": {
   "codemirror_mode": {
    "name": "ipython",
    "version": 3
   },
   "file_extension": ".py",
   "mimetype": "text/x-python",
   "name": "python",
   "nbconvert_exporter": "python",
   "pygments_lexer": "ipython3",
   "version": "3.7.4"
  }
 },
 "nbformat": 4,
 "nbformat_minor": 5
}
